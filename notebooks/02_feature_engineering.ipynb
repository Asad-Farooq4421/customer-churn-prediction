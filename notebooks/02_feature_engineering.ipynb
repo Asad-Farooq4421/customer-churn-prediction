{
 "cells": [
  {
   "cell_type": "code",
   "execution_count": 2,
   "id": "f61aa4aa",
   "metadata": {},
   "outputs": [
    {
     "name": "stdout",
     "output_type": "stream",
     "text": [
      "✅ Libraries imported successfully!\n",
      "✅ Cleaned dataset loaded successfully!\n",
      "📊 Dataset shape: (7043, 21)\n",
      "🎯 Churn distribution: {'No': 5174, 'Yes': 1869}\n"
     ]
    }
   ],
   "source": [
    "# Cell 1: Setup and load cleaned data\n",
    "import pandas as pd\n",
    "import numpy as np\n",
    "import matplotlib.pyplot as plt\n",
    "import seaborn as sns\n",
    "from sklearn.preprocessing import LabelEncoder, StandardScaler\n",
    "from sklearn.model_selection import train_test_split\n",
    "from imblearn.over_sampling import SMOTE\n",
    "import warnings\n",
    "warnings.filterwarnings('ignore')\n",
    "\n",
    "print(\"✅ Libraries imported successfully!\")\n",
    "\n",
    "# Load the cleaned dataset from Notebook 1\n",
    "try:\n",
    "    df = pd.read_csv('../data/processed/telco_churn_cleaned.csv')\n",
    "    print(\"✅ Cleaned dataset loaded successfully!\")\n",
    "    print(f\"📊 Dataset shape: {df.shape}\")\n",
    "    print(f\"🎯 Churn distribution: {df['Churn'].value_counts().to_dict()}\")\n",
    "except FileNotFoundError:\n",
    "    print(\"❌ Error: Cleaned dataset not found. Please run Notebook 1 first.\")"
   ]
  },
  {
   "cell_type": "code",
   "execution_count": 3,
   "id": "b57f668a",
   "metadata": {},
   "outputs": [
    {
     "name": "stdout",
     "output_type": "stream",
     "text": [
      "🛠️ FEATURE ENGINEERING STRATEGY\n",
      "==================================================\n",
      "📋 OUR FEATURE ENGINEERING PLAN:\n",
      "1. 🔤 Encode categorical variables (One-Hot & Label Encoding)\n",
      "2. 🆕 Create new engineered features\n",
      "3. ⚖️  Handle class imbalance with SMOTE\n",
      "4. 📊 Feature scaling and selection\n",
      "5. 🎯 Prepare train/test splits\n",
      "\n",
      "📊 Feature matrix shape: (7043, 19)\n",
      "🎯 Target shape: (7043,)\n",
      "\n",
      "🔤 Categorical features (15): ['gender', 'Partner', 'Dependents', 'PhoneService', 'MultipleLines', 'InternetService', 'OnlineSecurity', 'OnlineBackup', 'DeviceProtection', 'TechSupport', 'StreamingTV', 'StreamingMovies', 'Contract', 'PaperlessBilling', 'PaymentMethod']\n",
      "🔢 Numerical features (4): ['SeniorCitizen', 'tenure', 'MonthlyCharges', 'TotalCharges']\n",
      "\n",
      "📊 Categorical feature unique values:\n",
      "  gender: ['Female' 'Male']\n",
      "  Partner: ['Yes' 'No']\n",
      "  Dependents: ['No' 'Yes']\n",
      "  PhoneService: ['No' 'Yes']\n",
      "  MultipleLines: ['No phone service' 'No' 'Yes']\n"
     ]
    }
   ],
   "source": [
    "# Cell 2: Feature engineering strategy\n",
    "print(\"🛠️ FEATURE ENGINEERING STRATEGY\")\n",
    "print(\"=\" * 50)\n",
    "\n",
    "print(\"📋 OUR FEATURE ENGINEERING PLAN:\")\n",
    "print(\"1. 🔤 Encode categorical variables (One-Hot & Label Encoding)\")\n",
    "print(\"2. 🆕 Create new engineered features\")\n",
    "print(\"3. ⚖️  Handle class imbalance with SMOTE\")\n",
    "print(\"4. 📊 Feature scaling and selection\")\n",
    "print(\"5. 🎯 Prepare train/test splits\")\n",
    "\n",
    "# Separate features and target\n",
    "X = df.drop(['customerID', 'Churn'], axis=1)\n",
    "y = df['Churn']\n",
    "\n",
    "print(f\"\\n📊 Feature matrix shape: {X.shape}\")\n",
    "print(f\"🎯 Target shape: {y.shape}\")\n",
    "\n",
    "# Identify feature types\n",
    "categorical_cols = X.select_dtypes(include=['object']).columns.tolist()\n",
    "numerical_cols = X.select_dtypes(include=[np.number]).columns.tolist()\n",
    "\n",
    "print(f\"\\n🔤 Categorical features ({len(categorical_cols)}): {categorical_cols}\")\n",
    "print(f\"🔢 Numerical features ({len(numerical_cols)}): {numerical_cols}\")\n",
    "\n",
    "# Display unique values for categorical features\n",
    "print(\"\\n📊 Categorical feature unique values:\")\n",
    "for col in categorical_cols[:5]:  # Show first 5\n",
    "    print(f\"  {col}: {X[col].unique()}\")\n",
    "    "
   ]
  },
  {
   "cell_type": "code",
   "execution_count": null,
   "id": "ae628d10",
   "metadata": {},
   "outputs": [],
   "source": [
    "# Cell 3: Categorical feature encoding\n",
    "print(\"🔤 CATEGORICAL FEATURE ENCODING\")\n",
    "print(\"=\" * 50)\n",
    "\n",
    "# Create a copy for feature engineering\n",
    "X_encoded = X.copy()\n",
    "\n",
    "print(\"📊 Encoding strategy:\")\n",
    "print(\"• Binary features: Label Encoding (0/1)\")\n",
    "print(\"• Multi-class features: One-Hot Encoding\")\n",
    "print(\"• 'No internet service' treated as separate category\")\n",
    "\n",
    "# Identify binary vs multi-class categorical features\n",
    "binary_cols = []\n",
    "multi_class_cols = []\n",
    "\n",
    "for col in categorical_cols:\n",
    "    unique_vals = X_encoded[col].nunique()\n",
    "    if unique_vals == 2:\n",
    "        binary_cols.append(col)\n",
    "    else:\n",
    "        multi_class_cols.append(col)\n",
    "\n",
    "print(f\"\\n🔢 Binary features ({len(binary_cols)}): {binary_cols}\")\n",
    "print(f\"🎭 Multi-class features ({len(multi_class_cols)}): {multi_class_cols}\")\n",
    "\n",
    "# Label encode binary features\n",
    "print(\"\\n🔄 Label Encoding binary features...\")\n",
    "label_encoder = LabelEncoder()\n",
    "\n",
    "for col in binary_cols:\n",
    "    X_encoded[col] = label_encoder.fit_transform(X_encoded[col])\n",
    "    print(f\"  {col}: {dict(zip(label_encoder.classes_, label_encoder.transform(label_encoder.classes_)))}\")\n",
    "\n",
    "# One-hot encode multi-class features\n",
    "print(\"\\n🎭 One-Hot Encoding multi-class features...\")\n",
    "X_encoded = pd.get_dummies(X_encoded, columns=multi_class_cols, prefix=multi_class_cols)\n",
    "\n",
    "print(f\"\\n✅ Encoding completed!\")\n",
    "print(f\"📊 New feature matrix shape: {X_encoded.shape}\")\n",
    "print(f\"🔤 Total features after encoding: {X_encoded.shape[1]}\")\n",
    "\n",
    "# Display new feature names\n",
    "print(f\"\\n📋 First 10 new feature names:\")\n",
    "print(X_encoded.columns[:10].tolist())"
   ]
  }
 ],
 "metadata": {
  "kernelspec": {
   "display_name": "Python 3",
   "language": "python",
   "name": "python3"
  },
  "language_info": {
   "codemirror_mode": {
    "name": "ipython",
    "version": 3
   },
   "file_extension": ".py",
   "mimetype": "text/x-python",
   "name": "python",
   "nbconvert_exporter": "python",
   "pygments_lexer": "ipython3",
   "version": "3.13.3"
  }
 },
 "nbformat": 4,
 "nbformat_minor": 5
}
